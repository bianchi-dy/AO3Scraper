{
 "cells": [
  {
   "cell_type": "code",
   "execution_count": 1,
   "id": "744ff97e",
   "metadata": {},
   "outputs": [],
   "source": [
    "import pandas as pd"
   ]
  },
  {
   "cell_type": "code",
   "execution_count": 6,
   "id": "c43af973",
   "metadata": {},
   "outputs": [
    {
     "ename": "SyntaxError",
     "evalue": "invalid syntax (<ipython-input-6-fc988d3bc96d>, line 1)",
     "output_type": "error",
     "traceback": [
      "\u001b[0;36m  File \u001b[0;32m\"<ipython-input-6-fc988d3bc96d>\"\u001b[0;36m, line \u001b[0;32m1\u001b[0m\n\u001b[0;31m    test = [{'user': 'AFeatheredRiddle', 'datetime': {'day': 'Thu', 'date': '14', 'month': 'May', 'year': '2020', 'time': '12:42AM', 'timezone': 'EDT'}, 'id': '305086624', 'parent': True, 'text': 'I really enjoyed this!'}, [{'user': 'Zahri', 'datetime': {'day': 'Thu', 'date': '14', 'month': 'May', 'year': '2020', 'time': '01:50AM', 'timezone': 'EDT'}, 'id': '305102314', 'parent': True, 'text': 'Thank you!'}], {'user': 'afieldofsuns', 'datetime': {'day': 'Fri', 'date': '09', 'month': 'Oct', 'year': '2020', 'time': '02:50AM', 'timezone': 'EDT'}, 'id': '352259422', 'parent': True, 'text': 'omg bless!!! I love these predictions so much!!!'}, [{'user': 'Zahri', 'datetime': {'day': 'Fri', 'date': '09', 'month': 'Oct', 'year': '2020', 'time': '06:34AM', 'timezone': 'EDT'}, 'id': '352290463', 'parent': True, 'text': 'Thank you!'}], {'user': 'Elenca', 'datetime': {'day': 'Thu', 'date': '15', 'month': 'Oct', 'year': '2020', 'time': '06:58PM', 'timezone': 'EDT'}, 'id': '354360217', 'parent': True, 'text': 'This is absolutely delightful ❤️❤️❤️'}, [{'user': 'Zahri', 'datetime': {'day': 'Thu', 'date': '15', 'month': 'Oct', 'year': '2020', 'time': '07:09PM', 'timezone': 'EDT'}, 'id': '354362794', 'parent': True, 'text': 'Thank you!'}, {'user': 'Elenca', 'datetime': {'day': 'Thu', 'date': '15', 'month': 'Oct', 'year': '2020', 'time': '07:44PM', 'timezone': 'EDT'}, 'id': '354370387', 'parent': True, 'text': 'The juxtaposition of the two is part of what makes it so great. Also, 4CC Vitya is an accurate old person mood™️ and I love and support him for it lol'}, {'user': 'Zahri', 'datetime': {'day': 'Thu', 'date': '15', 'month': 'Oct', 'year': '2020', 'time': '07:56PM', 'timezone': 'EDT'}, 'id': '354373267', 'parent': True, 'text': 'Old person mood is real!'}, {'user': 'Elenca', 'datetime': {'day': 'Thu', 'date': '15', 'month': 'Oct', 'year': '2020', 'time': '10:06PM', 'timezone': 'EDT'}, 'id': '354403219', 'parent': True, 'text': 'Right!!! I’m 34 and while I adore Phichit and love his vivacity in the series and in so many stories, dear god that child would knock me flat on my exhausted ass so fast 😂'}, {'user': 'Zahri', 'datetime': {'day': 'Thu', 'date': '15', 'month': 'Oct', 'year': '2020', 'time': '10:51PM', 'timezone': 'EDT'}, 'id': '354414676', 'parent': True, 'text': '...yup. 1000%.'}, {'user': 'Elenca', 'datetime': {'day': 'Thu', 'date': '15', 'month': 'Oct', 'year': '2020', 'time': '11:58PM', 'timezone': 'EDT'}, 'id': '354430453', 'parent': True, 'text': 'It’s so so so true. All of this. Him characterized with chaotic good/neutral 20s energy would be terrifying in reality, but damn am I sucker for “Phichit, no,” “Phichit, yes!” energy as a fictional idea 😂❤️'}, {'user': 'Zahri', 'datetime': {'day': 'Fri', 'date': '16', 'month': 'Oct', 'year': '2020', 'time': '12:51AM', 'timezone': 'EDT'}, 'id': '354442084', 'parent': True, 'text': 'Yeah! I realise in my case it’s more than 2 decades of sport (coaching and competing) and signing social media policies and dealing with the real world side of these things showing through, but sometimes the way people have them act when as characters they KNOW things are in the media just seems ridiculous. Phichit isn’t going to orchestrate the entire Victuuri fandom online. He’s got too much of his own going on. He’s going to tease his friend in private messages and (from the show) make some suspicious public posts he probably shouldn’t.'}], {'user': 'Elenca', 'datetime': {'day': 'Mon', 'date': '14', 'month': 'Dec', 'year': '2020', 'time': '08:41AM', 'timezone': 'EST'}, 'id': '372052140', 'parent': True, 'text': <i>*clutches chest*</i>}, [{'user': 'Zahri', 'datetime': {'day': 'Mon', 'date': '14', 'month': 'Dec', 'year': '2020', 'time': '03:43PM', 'timezone': 'EST'}, 'id': '372163257', 'parent': True, 'text': 'He’s just so loveable ❤️ (And whispering dirty things in Victor’s ear as he is DRUNK). Victor never realised how much more fun this is than 5 years of straight gold until it became his life.'}]]\u001b[0m\n\u001b[0m                                                                                                                                                                                                                                                                                                                                                                                                                                                                                                                                                                                                                                                                                                                                                                                                                                                                                                                                                                                                                                                                                                                                                                                                                                                                                                                                                                                                                                                                                                                                                                                                                                                                                                                                                                                                                                                                                                                                                                                                                                                                                                                                                                                                                                                                                                                                                                                                                                                                                                                                                                                                                                                                                                                                                                                                                                                                                                                                                                                                                                                                                                                                                                                                                                                                                                                                                                                                                                                                                                                                                                                                                                                                                                                                            ^\u001b[0m\n\u001b[0;31mSyntaxError\u001b[0m\u001b[0;31m:\u001b[0m invalid syntax\n"
     ]
    }
   ],
   "source": [
    "[{'user': 'AFeatheredRiddle', \n",
    "  'datetime': {'day': 'Thu', 'date': '14', 'month': 'May', 'year': '2020', 'time': '12:42AM', 'timezone': 'EDT'}, \n",
    "  'id': '305086624', 'parent': True, 'text': 'I really enjoyed this!'}, \n",
    " [{'user': 'Zahri', 'datetime': {'day': 'Thu', 'date': '14', 'month': 'May', 'year': '2020', 'time': '01:50AM', 'timezone': 'EDT'}, 'id': '305102314', 'parent': True, 'text': 'Thank you!'}], \n",
    " {'user': 'afieldofsuns', 'datetime': {'day': 'Fri', 'date': '09', 'month': 'Oct', 'year': '2020', 'time': '02:50AM', 'timezone': 'EDT'}, 'id': '352259422', 'parent': True, 'text': 'omg bless!!! I love these predictions so much!!!'}, \n",
    " [{'user': 'Zahri', 'datetime': {'day': 'Fri', 'date': '09', 'month': 'Oct', 'year': '2020', 'time': '06:34AM', 'timezone': 'EDT'}, 'id': '352290463', 'parent': True, 'text': 'Thank you!'}], \n",
    " {'user': 'Elenca', 'datetime': {'day': 'Thu', 'date': '15', 'month': 'Oct', 'year': '2020', 'time': '06:58PM', 'timezone': 'EDT'}, 'id': '354360217', 'parent': True, 'text': 'This is absolutely delightful ❤️❤️❤️'}, [{'user': 'Zahri', 'datetime': {'day': 'Thu', 'date': '15', 'month': 'Oct', 'year': '2020', 'time': '07:09PM', 'timezone': 'EDT'}, 'id': '354362794', 'parent': True, 'text': 'Thank you!'}, {'user': 'Elenca', 'datetime': {'day': 'Thu', 'date': '15', 'month': 'Oct', 'year': '2020', 'time': '07:44PM', 'timezone': 'EDT'}, 'id': '354370387', 'parent': True, 'text': 'The juxtaposition of the two is part of what makes it so great. Also, 4CC Vitya is an accurate old person mood™️ and I love and support him for it lol'}, {'user': 'Zahri', 'datetime': {'day': 'Thu', 'date': '15', 'month': 'Oct', 'year': '2020', 'time': '07:56PM', 'timezone': 'EDT'}, 'id': '354373267', 'parent': True, 'text': 'Old person mood is real!'}, {'user': 'Elenca', 'datetime': {'day': 'Thu', 'date': '15', 'month': 'Oct', 'year': '2020', 'time': '10:06PM', 'timezone': 'EDT'}, 'id': '354403219', 'parent': True, 'text': 'Right!!! I’m 34 and while I adore Phichit and love his vivacity in the series and in so many stories, dear god that child would knock me flat on my exhausted ass so fast 😂'}, {'user': 'Zahri', 'datetime': {'day': 'Thu', 'date': '15', 'month': 'Oct', 'year': '2020', 'time': '10:51PM', 'timezone': 'EDT'}, 'id': '354414676', 'parent': True, 'text': '...yup. 1000%.'}, {'user': 'Elenca', 'datetime': {'day': 'Thu', 'date': '15', 'month': 'Oct', 'year': '2020', 'time': '11:58PM', 'timezone': 'EDT'}, 'id': '354430453', 'parent': True, 'text': 'It’s so so so true. All of this. Him characterized with chaotic good/neutral 20s energy would be terrifying in reality, but damn am I sucker for “Phichit, no,” “Phichit, yes!” energy as a fictional idea 😂❤️'}, {'user': 'Zahri', 'datetime': {'day': 'Fri', 'date': '16', 'month': 'Oct', 'year': '2020', 'time': '12:51AM', 'timezone': 'EDT'}, 'id': '354442084', 'parent': True, 'text': 'Yeah! I realise in my case it’s more than 2 decades of sport (coaching and competing) and signing social media policies and dealing with the real world side of these things showing through, but sometimes the way people have them act when as characters they KNOW things are in the media just seems ridiculous. Phichit isn’t going to orchestrate the entire Victuuri fandom online. He’s got too much of his own going on. He’s going to tease his friend in private messages and (from the show) make some suspicious public posts he probably shouldn’t.'}], {'user': 'Elenca', 'datetime': {'day': 'Mon', 'date': '14', 'month': 'Dec', 'year': '2020', 'time': '08:41AM', 'timezone': 'EST'}, 'id': '372052140', 'parent': True, 'text': <i>*clutches chest*</i>}, [{'user': 'Zahri', 'datetime': {'day': 'Mon', 'date': '14', 'month': 'Dec', 'year': '2020', 'time': '03:43PM', 'timezone': 'EST'}, 'id': '372163257', 'parent': True, 'text': 'He’s just so loveable ❤️ (And whispering dirty things in Victor’s ear as he is DRUNK). Victor never realised how much more fun this is than 5 years of straight gold until it became his life.'}]]\n"
   ]
  },
  {
   "cell_type": "code",
   "execution_count": null,
   "id": "d32c626a",
   "metadata": {},
   "outputs": [],
   "source": []
  }
 ],
 "metadata": {
  "kernelspec": {
   "display_name": "Python 3",
   "language": "python",
   "name": "python3"
  },
  "language_info": {
   "codemirror_mode": {
    "name": "ipython",
    "version": 3
   },
   "file_extension": ".py",
   "mimetype": "text/x-python",
   "name": "python",
   "nbconvert_exporter": "python",
   "pygments_lexer": "ipython3",
   "version": "3.9.5"
  }
 },
 "nbformat": 4,
 "nbformat_minor": 5
}
